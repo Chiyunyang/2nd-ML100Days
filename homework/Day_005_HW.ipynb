{
 "cells": [
  {
   "cell_type": "code",
   "execution_count": 1,
   "metadata": {},
   "outputs": [],
   "source": [
    "# Import 需要的套件\n",
    "import os\n",
    "import numpy as np\n",
    "import pandas as pd\n",
    "\n",
    "# 設定 data_path\n",
    "dir_data = './data/'"
   ]
  },
  {
   "cell_type": "code",
   "execution_count": 2,
   "metadata": {},
   "outputs": [],
   "source": [
    "f_app_train = os.path.join(dir_data, 'application_train.csv')\n",
    "app_train = pd.read_csv(f_app_train)"
   ]
  },
  {
   "cell_type": "code",
   "execution_count": 25,
   "metadata": {},
   "outputs": [],
   "source": [
    "import matplotlib.pyplot as plt\n",
    "%matplotlib inline"
   ]
  },
  {
   "cell_type": "markdown",
   "metadata": {},
   "source": [
    "## 練習時間"
   ]
  },
  {
   "cell_type": "markdown",
   "metadata": {},
   "source": [
    "觀察有興趣的欄位的資料分佈，並嘗試找出有趣的訊息\n",
    "#### Eg\n",
    "- 計算任意欄位的平均數及標準差\n",
    "- 畫出任意欄位的[直方圖](https://zh.wikipedia.org/zh-tw/%E7%9B%B4%E6%96%B9%E5%9B%BE)\n",
    "\n",
    "### Hints:\n",
    "- [Descriptive Statistics For pandas Dataframe](https://chrisalbon.com/python/data_wrangling/pandas_dataframe_descriptive_stats/)\n",
    "- [pandas 中的繪圖函數](https://amaozhao.gitbooks.io/pandas-notebook/content/pandas%E4%B8%AD%E7%9A%84%E7%BB%98%E5%9B%BE%E5%87%BD%E6%95%B0.html)\n"
   ]
  },
  {
   "cell_type": "code",
   "execution_count": 41,
   "metadata": {
    "scrolled": true
   },
   "outputs": [
    {
     "name": "stdout",
     "output_type": "stream",
     "text": [
      "column  AMT_CREDIT  mean: 599025, sample standard deviation: 402490\n",
      "CODE_GENDER  FLAG_OWN_CAR\n",
      "F            N               567929.776823\n",
      "             Y               679769.206677\n",
      "M            N               556830.818128\n",
      "             Y               652442.822770\n",
      "XNA          N               337500.000000\n",
      "             Y               461250.000000\n",
      "Name: AMT_CREDIT, dtype: float64\n"
     ]
    },
    {
     "data": {
      "image/png": "[encoded data removed]",
      "text/plain": [
       "<Figure size 432x288 with 1 Axes>"
      ]
     },
     "metadata": {},
     "output_type": "display_data"
    },
    {
     "name": "stdout",
     "output_type": "stream",
     "text": [
      ">>> Next:\n",
      "column  AMT_ANNUITY  mean: 27108, sample standard deviation: 14493\n",
      "CODE_GENDER  FLAG_OWN_CAR\n",
      "F            N               25318.994857\n",
      "             Y               29758.015248\n",
      "M            N               26732.143173\n",
      "             Y               30124.860786\n",
      "XNA          N               16875.000000\n",
      "             Y               23062.500000\n",
      "Name: AMT_ANNUITY, dtype: float64\n"
     ]
    },
    {
     "data": {
      "image/png": "[encoded data removed]",
      "text/plain": [
       "<Figure size 432x288 with 1 Axes>"
      ]
     },
     "metadata": {},
     "output_type": "display_data"
    },
    {
     "name": "stdout",
     "output_type": "stream",
     "text": [
      ">>> Next:\n",
      "column  AMT_GOODS_PRICE  mean: 538396, sample standard deviation: 369446\n",
      "CODE_GENDER  FLAG_OWN_CAR\n",
      "F            N               508827.750362\n",
      "             Y               614901.234947\n",
      "M            N               498278.160782\n",
      "             Y               589231.540276\n",
      "XNA          N               225000.000000\n",
      "             Y               618750.000000\n",
      "Name: AMT_GOODS_PRICE, dtype: float64\n"
     ]
    },
    {
     "data": {
      "image/png": "[encoded data removed]",
      "text/plain": [
       "<Figure size 432x288 with 1 Axes>"
      ]
     },
     "metadata": {},
     "output_type": "display_data"
    },
    {
     "name": "stdout",
     "output_type": "stream",
     "text": [
      ">>> Next:\n"
     ]
    }
   ],
   "source": [
    "#計算平均數和標準差\n",
    "data_list = ['AMT_CREDIT', 'AMT_ANNUITY', 'AMT_GOODS_PRICE']\n",
    "for column in data_list:\n",
    "    M = app_train[column].mean()\n",
    "    S = app_train[column].std()\n",
    "    print('column ', column, ' mean: %d, sample standard deviation: %d' %(M, S))\n",
    "\n",
    "    #根據性別做分組平均數和標準差\n",
    "    data = app_train.groupby(['CODE_GENDER', 'FLAG_OWN_CAR'])\n",
    "    print(data[column].mean())\n",
    "    \n",
    "    \n",
    "    #劃出直方圖\n",
    "    plt.hist(app_train[column][:500], color = 'red', alpha = 0.3, label= column)\n",
    "    plt.legend(loc='best') #legend圖例要顯示上面的代碼legend\n",
    "    plt.show()\n",
    "    \n",
    "    print('>>> Next:')"
   ]
  },
  {
   "cell_type": "code",
   "execution_count": null,
   "metadata": {},
   "outputs": [],
   "source": []
  }
 ],
 "metadata": {
  "kernelspec": {
   "display_name": "Python 3",
   "language": "python",
   "name": "python3"
  },
  "language_info": {
   "codemirror_mode": {
    "name": "ipython",
    "version": 3
   },
   "file_extension": ".py",
   "mimetype": "text/x-python",
   "name": "python",
   "nbconvert_exporter": "python",
   "pygments_lexer": "ipython3",
   "version": "3.6.5"
  }
 },
 "nbformat": 4,
 "nbformat_minor": 2
}
