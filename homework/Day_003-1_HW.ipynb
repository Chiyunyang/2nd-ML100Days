{
 "cells": [
  {
   "cell_type": "markdown",
   "metadata": {},
   "source": [
    "## 練習時間\n",
    "在小量的資料上，我們用眼睛就可以看得出來程式碼是否有跑出我們理想中的結果\n",
    "\n",
    "請嘗試想像一個你需要的資料結構 (裡面的值可以是隨機的)，然後用上述的方法把它變成 pandas DataFrame\n",
    "\n",
    "#### Ex: 想像一個 dataframe 有兩個欄位，一個是國家，一個是人口，求人口數最多的國家\n",
    "\n",
    "### Hints: [隨機產生數值](https://blog.csdn.net/christianashannon/article/details/78867204)"
   ]
  },
  {
   "cell_type": "code",
   "execution_count": 13,
   "metadata": {},
   "outputs": [],
   "source": [
    "import pandas as pd\n",
    "import numpy as np"
   ]
  },
  {
   "cell_type": "code",
   "execution_count": 29,
   "metadata": {},
   "outputs": [
    {
     "name": "stdout",
     "output_type": "stream",
     "text": [
      "           國家       人口\n",
      "0      Taiwan  4059340\n",
      "1       Japan  3505705\n",
      "2  Netherland  6164209\n",
      "3     Vietnam  9776694\n",
      "4   Indonesia  3826561\n",
      "5      Poland  9170993\n",
      "6       Spain   866493\n"
     ]
    }
   ],
   "source": [
    "data = {'國家': ['Taiwan', 'Japan', 'Netherland', 'Vietnam', 'Indonesia', 'Poland', 'Spain'] ,\n",
    "        '人口': np.random.randint(10000000, size=7)} #隨機產生整數\n",
    "df = pd.DataFrame(data) #製作成data的形式後面才可以找column對應的最大值\n",
    "print(df)"
   ]
  },
  {
   "cell_type": "code",
   "execution_count": 30,
   "metadata": {},
   "outputs": [
    {
     "name": "stdout",
     "output_type": "stream",
     "text": [
      "國家    Vietnam\n",
      "人口    9776694\n",
      "Name: 3, dtype: object\n"
     ]
    }
   ],
   "source": [
    "max = df.loc[df['人口'].idxmax(),'國家':'人口']  #找人口最多的row column從國家到人口\n",
    "print(max)"
   ]
  },
  {
   "cell_type": "code",
   "execution_count": null,
   "metadata": {},
   "outputs": [],
   "source": []
  }
 ],
 "metadata": {
  "kernelspec": {
   "display_name": "Python 3",
   "language": "python",
   "name": "python3"
  },
  "language_info": {
   "codemirror_mode": {
    "name": "ipython",
    "version": 3
   },
   "file_extension": ".py",
   "mimetype": "text/x-python",
   "name": "python",
   "nbconvert_exporter": "python",
   "pygments_lexer": "ipython3",
   "version": "3.6.5"
  }
 },
 "nbformat": 4,
 "nbformat_minor": 2
}
